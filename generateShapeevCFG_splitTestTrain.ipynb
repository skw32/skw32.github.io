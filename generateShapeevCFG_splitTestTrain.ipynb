{
 "cells": [
  {
   "cell_type": "markdown",
   "metadata": {},
   "source": [
    "# Intro\n",
    "This workflow was designed to allow a potential to be trained to predict relaxed total energies from unrelaxed structures (named 'POSCAR_orig' here.). It is shared in case it can be edited to suit other future uses when it is necessary to customise the cfg files for MTP.\n",
    "\n",
    "## Requirements:\n",
    "- python3\n",
    "- ase\n",
    "\n",
    "## User inputs:\n",
    "- Define location of directories with structure data\n",
    "- Set a size for the training and test sets (note these may need to be edited after checking for convergence, etc. later in the workflow)\n",
    "- Choose names for the cfg files containing the train and test set structures"
   ]
  },
  {
   "cell_type": "code",
   "execution_count": null,
   "metadata": {},
   "outputs": [],
   "source": [
    "import os\n",
    "import glob\n",
    "import ase.io as io\n",
    "import ase as ase\n",
    "import random\n",
    "\n",
    "trainSize = 330\n",
    "testSize = 140\n",
    "trainFile=\"oneElongOnly_train330.cfg\"\n",
    "testFile=\"oneElongOnly_test140.cfg\"\n",
    "\n",
    "data_dir = '/home/suzannekwallace/Projects/Co_xMn_{3-x}O_4/comparisonStudy_NNandMTP/cleanedSetsABC/labelled/javi_oneElongOnly_orig'\n",
    "list_to_read = glob.glob(os.path.join(data_dir,'*/con*/'), recursive=True)"
   ]
  },
  {
   "cell_type": "code",
   "execution_count": 2,
   "metadata": {},
   "outputs": [],
   "source": [
    "def writeCFG(fileList: list, outFile: str):\n",
    "    \n",
    "    cfgFile=open(outFile,\"w+\")\n",
    "    \n",
    "    for datum in fileList:\n",
    "        pos = os.path.join(datum, 'POSCAR_orig')\n",
    "        out = os.path.join(datum, 'OUTCAR')\n",
    "        if os.path.isfile(pos) and os.path.isfile(out):\n",
    "            try:\n",
    "                outStruc = io.read(out, index='-1', format='vasp-out')\n",
    "                posStruc = io.read(pos, format='vasp')\n",
    "                energy = outStruc.get_potential_energy()\n",
    "                cell = posStruc.get_cell()\n",
    "                positions = posStruc.get_positions()\n",
    "                symbols = posStruc.get_chemical_symbols()\n",
    "                ids = range(1, len(symbols)+1)\n",
    "                types = []\n",
    "                for symbol in symbols:\n",
    "                    if (symbol == 'Co'):\n",
    "                        types.append(0)\n",
    "                    elif (symbol == 'Mn'):\n",
    "                        types.append(1)\n",
    "                    elif (symbol == 'O'):\n",
    "                        types.append(2)\n",
    "                    else:\n",
    "                        print('Not Co, Mn, or O...?')       \n",
    "            except:\n",
    "                print('Failed to extract info or missing POSCAR_orig or OUTCAR in '+str(datum))\n",
    "\n",
    "            print('',file=cfgFile)\n",
    "            print('BEGIN_CFG',file=cfgFile)\n",
    "            print(' Size',file=cfgFile)\n",
    "            print('    ',len(symbols),file=cfgFile)\n",
    "            print(' Supercell',file=cfgFile)\n",
    "            for v1, v2, v3 in cell:\n",
    "                print('        ',v1,'          ',v2,'          ',v3,file=cfgFile)\n",
    "            print(' AtomData:  id type       cartes_x      cartes_y      cartes_z',file=cfgFile)\n",
    "            for id,type,[p1,p2,p3] in zip(ids, types, positions):\n",
    "                print('            ',id,'    ',type,'    ',p1,'    ',p2,'    ',p3,file=cfgFile)\n",
    "            print(' Energy',file=cfgFile)\n",
    "            print('        ',energy,file=cfgFile)\n",
    "            print('Feature comment   ',datum,file=cfgFile) # Add comment for original data location\n",
    "            print('END_CFG',file=cfgFile)\n",
    "        \n",
    "    cfgFile.close()"
   ]
  },
  {
   "cell_type": "markdown",
   "metadata": {},
   "source": [
    "## Check that files can be read sucessfully by ase:"
   ]
  },
  {
   "cell_type": "code",
   "execution_count": 3,
   "metadata": {},
   "outputs": [
    {
     "name": "stdout",
     "output_type": "stream",
     "text": [
      "Error reading files with ase from /home/suzannekwallace/Projects/Co_xMn_{3-x}O_4/comparisonStudy_NNandMTP/cleanedSetsABC/labelled/javi_oneElongOnly_orig/block_B.2/con0.54/\n",
      "479\n",
      "472\n",
      "330\n",
      "140\n"
     ]
    }
   ],
   "source": [
    "verifiedList = []\n",
    "for entry in list_to_read:\n",
    "        pos = os.path.join(entry, 'POSCAR_orig')\n",
    "        out = os.path.join(entry, 'OUTCAR')\n",
    "        if os.path.isfile(pos) and os.path.isfile(out):\n",
    "            try:\n",
    "                outStruc = io.read(out, index='-1', format='vasp-out')\n",
    "                posStruc = io.read(pos, format='vasp')\n",
    "            except:\n",
    "                print(\"Error reading files with ase from \"+str(entry))\n",
    "            else: # Only append list is try to read files with ase succeeded\n",
    "                verifiedList.append(entry)"
   ]
  },
  {
   "cell_type": "markdown",
   "metadata": {},
   "source": [
    "## Check that calculations had converged:"
   ]
  },
  {
   "cell_type": "code",
   "execution_count": null,
   "metadata": {},
   "outputs": [],
   "source": [
    "import re\n",
    "\n",
    "converged = []\n",
    "notConverged = []\n",
    "for entry in verifiedList:\n",
    "    outcar = open(os.path.join(entry, 'OUTCAR'), 'r')\n",
    "    convCheck = re.findall(r'reached required accuracy - stopping structural energy minimisation', outcar.read())\n",
    "    convCheck = ''.join(convCheck)\n",
    "    if (convCheck == 'reached required accuracy - stopping structural energy minimisation'):\n",
    "        converged.append(entry)\n",
    "    else:\n",
    "        notConverged.append(entry)\n",
    "        #print(convCheck)\n",
    "    outcar.close()\n",
    "    \n",
    "print(\"The number that reached geometrical convergence is: \"+str(len(converged)))\n",
    "print('Only these structures will be used to generate train and test sets in the following cells.')"
   ]
  },
  {
   "cell_type": "code",
   "execution_count": null,
   "metadata": {},
   "outputs": [],
   "source": [
    "if (trainSize + testSize > len(converged)):\n",
    "    print(\"Train set + test set > total data set size of \"+str(len(converged)))\n",
    "\n",
    "random.shuffle(converged)\n",
    "trainSet = converged[0:trainSize]\n",
    "testSet = converged[trainSize: trainSize+testSize]\n",
    "\n",
    "#print(len(list_to_read))\n",
    "#print(len(verifiedList))\n",
    "#print(len(converged))\n",
    "#print(len(trainSet))\n",
    "#print((len(testSet)))"
   ]
  },
  {
   "cell_type": "code",
   "execution_count": 4,
   "metadata": {},
   "outputs": [],
   "source": [
    "writeCFG(fileList=trainSet, outFile=trainFile)\n",
    "writeCFG(fileList=testSet, outFile=testFile)"
   ]
  },
  {
   "cell_type": "code",
   "execution_count": null,
   "metadata": {},
   "outputs": [],
   "source": []
  }
 ],
 "metadata": {
  "kernelspec": {
   "display_name": "Python 3",
   "language": "python",
   "name": "python3"
  },
  "language_info": {
   "codemirror_mode": {
    "name": "ipython",
    "version": 3
   },
   "file_extension": ".py",
   "mimetype": "text/x-python",
   "name": "python",
   "nbconvert_exporter": "python",
   "pygments_lexer": "ipython3",
   "version": "3.7.3"
  }
 },
 "nbformat": 4,
 "nbformat_minor": 2
}
